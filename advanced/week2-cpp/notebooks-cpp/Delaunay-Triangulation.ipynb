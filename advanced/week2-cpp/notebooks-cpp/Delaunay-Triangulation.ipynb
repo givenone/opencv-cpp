{
 "cells": [
  {
   "cell_type": "markdown",
   "metadata": {},
   "source": [
    "# <font style = \"color:rgb(50,120,229)\">Delaunay Triangulation and Voronoi Diagram</font>\n",
    "In a previous lecture we learned how approximating a nonlinear warp with piecewise linear map can lead to huge gains in efficiency. The next obvious question is how to generate these non-overlapping triangles that cover the entire image. \n",
    "\n",
    "One easy option is to divide the image into large squares and then split every square into two triangles. That is adequate for many applications. \n",
    "\n",
    "In the applications we are going to discuss, like Face Morphing, Face Averaging and Face Swapping, we need to warp corresponding areas of two different faces. In such cases, the triangulation needs to be based on the the facial landmark points. \n",
    "\n",
    "## <font style = \"color:rgb(50,120,229)\">What is Delaunay Triangulation?</font>\n",
    "\n",
    "&nbsp;\n",
    "\n",
    "<center><a href=\"https://www.learnopencv.com/wp-content/uploads/2017/12/opcv4face-w4-m3-dealunyTriangle-1.png\"><img src = \"https://www.learnopencv.com/wp-content/uploads/2017/12/opcv4face-w4-m3-dealunyTriangle-1.png\"/></a></center>\n",
    "\n",
    "**<center>Figure 1. Left : The image with input points shown as red dots. Right: The white lines display Delaunay triangulation calculated using the points. </center>**\n",
    "\n",
    "Given a set of points in a plane, a triangulation refers to the subdivision of the plane into triangles, with the points as vertices. In Figure 1, we see a set of points on the left image shown using red dots and the triangulation shown using white lines. \n",
    "\n",
    "A set of points can have many possible triangulations, but Delaunay triangulation stands out because it has some nice properties. \n",
    "\n",
    "In a Delaunay triangulation, triangles are chosen such that **no point is inside the circumcircle of any triangle**. Figure 2. shows Delaunay triangulation of 4 points A, B, C and D.  The difference between the top and the bottom images is that in the top image, point C is further away from line BD as compared to the bottom image. This movement of point C changes the Delaunay triangulation. \n",
    "\n",
    "In the top image, for the triangulation to be a valid Delaunay triangulation, point C should be outside the circumcircle of triangle ABD, and point A should be outside the circumcircle of triangle BCD.\n",
    "\n",
    "<center> <a href=\"https://www.learnopencv.com/wp-content/uploads/2017/12/opcv4face-w4-m3-angles.png\"><img src = \"https://www.learnopencv.com/wp-content/uploads/2017/12/opcv4face-w4-m3-angles.png\"/></a></center>\n",
    "<center>**Figure 2 : Delaunay triangulation favors small angles**</center>\n",
    "\n",
    "&nbsp;\n",
    "An interesting property of Delaunay triangulation is that it does not favor **\"skinny\"** triangles ( i.e. triangles with one large angle ).\n",
    "\n",
    "Figure 2 shows how the triangulation changes to pick \"fat\" triangles when the points are moved. In the top image, the points B and D have their x-coordinates at x = 1.5, and in the bottom image they are moved to the right to x = 1.75. In the top image angles ABC and ABD are large, and Delaunay triangulation creates an edge between B and D splitting the two large angles into smaller angles ABD, ADB, CDB, and CBD. On the other hand in the bottom image, the angle BCD is too large, and Delaunay triangulation creates an edge AC to divide the large angle.\n",
    "\n",
    "There are many algorithms to find the Delaunay triangulation of a set of points. The most obvious ( but not the most efficient ) one is to start with any triangulation, and check if the circumcircle of any triangle contains another point. If it does, flip the edges ( as shown in Figure 2. ) and continue until there are no triangles whose circumcircle contains a point.\n",
    "\n",
    "Any discussion on Delaunay triangulation has to include Voronoi diagrams because the Voronoi diagram of a set of points is mathematical dual to its Delaunay triangulation.\n",
    "\n",
    "## <font style = \"color:rgb(50,120,229)\">What is a Voronoi Diagram ?</font>\n",
    "\n",
    "&nbsp;\n",
    "\n",
    "<center> <a href=\"https://www.learnopencv.com/wp-content/uploads/2017/12/opcv4face-w4-m3-voronoiDiagram.png\"><img src = \"https://www.learnopencv.com/wp-content/uploads/2017/12/opcv4face-w4-m3-voronoiDiagram.png\"/></a></center>\n",
    "\n",
    "\n",
    "**<center>Figure 3: Left : The image with input points shown as red dots. Right: The Voronoi diagram calculated using the input points.</center>** \n",
    "\n",
    "\n",
    "Given a set of points in a plane, a Voronoi diagram partitions the space such that the boundary lines are **equidistant** from neighboring points. Figure 3. shows an example of a Voronoi diagram. You will notice that every boundary line passes through the center of two points. \n",
    "\n",
    "> <font style=\"font-family:Poiret one\" size=\"+2\"> If you connect the points in neighboring Voronoi regions, you get a Delaunay triangulation!</font>\n",
    "\n",
    "Given a set of points, you can calculate the Delaunay Triangulation or Voronoi Diagram using the class **Subdiv2D**. Here are the steps. A complete working example is shown in the next section.\n",
    "\n",
    "## <font style = \"color:rgb(50,120,229)\">Delaunay Triangulation Code & Tutorial</font>\n",
    "\n",
    "We will first show a simple code that reads in a file containing points and writes a file containing delaunay triangulation. Each row of the output file contains three numbers corresponding to the three indices of the points that form the triangle. "
   ]
  },
  {
   "cell_type": "code",
   "execution_count": 1,
   "metadata": {},
   "outputs": [],
   "source": [
    "#include \"includeLibraries.h\"\n",
    "#include <opencv2/opencv.hpp>\n",
    "#include \"matplotlibcpp.h\"\n",
    "#include \"displayImages.h\""
   ]
  },
  {
   "cell_type": "code",
   "execution_count": 2,
   "metadata": {},
   "outputs": [],
   "source": [
    "using namespace std;"
   ]
  },
  {
   "cell_type": "code",
   "execution_count": 3,
   "metadata": {},
   "outputs": [],
   "source": [
    "using namespace cv;"
   ]
  },
  {
   "cell_type": "code",
   "execution_count": 4,
   "metadata": {},
   "outputs": [],
   "source": [
    "using namespace matplotlibcpp;"
   ]
  },
  {
   "cell_type": "markdown",
   "metadata": {},
   "source": [
    "The function `findIndex` finds the index of the closest landmark point to the given vertex from the vector of points."
   ]
  },
  {
   "cell_type": "code",
   "execution_count": 5,
   "metadata": {},
   "outputs": [],
   "source": [
    "// In a vector of points, find the index of point closest to input point.\n",
    "static int findIndex(vector<Point2f>& points, Point2f &point)\n",
    "{\n",
    "  int minIndex = 0;\n",
    "  double minDistance = norm(points[0] - point);\n",
    "  for(int i = 1; i < points.size(); i++)\n",
    "  {\n",
    "    double distance = norm(points[i] - point);\n",
    "    if( distance < minDistance )\n",
    "    {\n",
    "      minIndex = i;\n",
    "      minDistance = distance;\n",
    "    }\n",
    "\n",
    "  }\n",
    "  return minIndex;\n",
    "}"
   ]
  },
  {
   "cell_type": "markdown",
   "metadata": {},
   "source": [
    "The function `writeDelaunay` gets the Delaunay triangles using the `getTriangleList` method of the `subdiv` object.\n",
    "\n",
    "`getTriangleList` returns a vector of 6 floating point numbers `vector<Vec6f>`. The six numbers are the x and y coordinates of the three vertices of a triangle."
   ]
  },
  {
   "cell_type": "code",
   "execution_count": 6,
   "metadata": {},
   "outputs": [],
   "source": [
    "// Write delaunay triangles to file\n",
    "static void writeDelaunay(Subdiv2D& subdiv, vector<Point2f>& points, const string &filename)\n",
    "{\n",
    "\n",
    "  // Open file for writing\n",
    "  std::ofstream ofs;\n",
    "  ofs.open(filename);\n",
    "\n",
    "  // Obtain the list of triangles.\n",
    "  // Each triangle is stored as vector of 6 coordinates\n",
    "  // (x0, y0, x1, y1, x2, y2)\n",
    "  vector<Vec6f> triangleList;\n",
    "  subdiv.getTriangleList(triangleList);\n",
    "\n",
    "  // Will convert triangle representation to three vertices\n",
    "  vector<Point2f> vertices(3);\n",
    "\n",
    "  // Loop over all triangles\n",
    "  for( size_t i = 0; i < triangleList.size(); i++ )\n",
    "  {\n",
    "    // Obtain current triangle\n",
    "    Vec6f t = triangleList[i];\n",
    "\n",
    "    // Extract vertices of current triangle\n",
    "    vertices[0] = Point2f(t[0], t[1]);\n",
    "    vertices[1] = Point2f(t[2], t[3]);\n",
    "    vertices[2] = Point2f(t[4], t[5]);\n",
    "\n",
    "    // Find landmark indices of vertices in the points list\n",
    "    int landmark1 = findIndex(points, vertices[0]);\n",
    "    int landmark2 = findIndex(points, vertices[1]);\n",
    "    int landmark3 = findIndex(points, vertices[2]);\n",
    "    // save to file.\n",
    "\n",
    "    ofs << landmark1 << \" \" << landmark2 << \" \" << landmark3 << endl;\n",
    "\n",
    "  }\n",
    "  ofs.close();\n",
    "}"
   ]
  },
  {
   "cell_type": "markdown",
   "metadata": {},
   "source": [
    "First, we read a data file containing points. Each row of the file contains the x and y coordinates of a point separated by a space."
   ]
  },
  {
   "cell_type": "code",
   "execution_count": 7,
   "metadata": {},
   "outputs": [
    {
     "name": "stdout",
     "output_type": "stream",
     "text": [
      "Reading file ../data/images/smiling-man-delaunay.txt\n"
     ]
    }
   ],
   "source": [
    "// Create a vector of points.\n",
    "vector<Point2f> points;\n",
    "\n",
    "// Read in the points from a text file\n",
    "string pointsFilename(DATA_PATH + \"images/smiling-man-delaunay.txt\");\n",
    "ifstream ifs(pointsFilename);\n",
    "int x, y;\n",
    "while(ifs >> x >> y)\n",
    "{\n",
    "    points.push_back(Point2f(x,y));\n",
    "}\n",
    "\n",
    "cout << \"Reading file \" << pointsFilename << endl;"
   ]
  },
  {
   "cell_type": "markdown",
   "metadata": {},
   "source": [
    "Delaunay triangulation and voronoi diagrams are calculated using the class `Subdiv2D`. \n",
    "\n",
    "`Subdiv2D` is initialized with a rectangle containing all the points. The landmark points are read from the file.\n",
    "\n",
    "The insert method is used to insert points. \n",
    "\n",
    "`writeDelaunay` function uses `getTriangleList` method to get the delaunay triangles."
   ]
  },
  {
   "cell_type": "code",
   "execution_count": 8,
   "metadata": {},
   "outputs": [],
   "source": [
    "// Find bounding box enclosing the points.\n",
    "Rect rect = boundingRect(points);\n",
    "\n",
    "// Create an instance of Subdiv2D\n",
    "Subdiv2D subdiv(rect);\n",
    "\n",
    "// Insert points into subdiv\n",
    "for( vector<Point2f>::iterator it = points.begin(); it != points.end(); it++)\n",
    "{\n",
    "    subdiv.insert(*it);\n",
    "}"
   ]
  },
  {
   "cell_type": "markdown",
   "metadata": {},
   "source": [
    "Save output Delaunay triangles to file. The function `writeDelaunay` takes as input an instance of `Subdiv2D`, the list of input points, and saves it to disk.\n",
    "\n",
    "Each row of the output file contains three number that represent a triangle. The numbers are the indices of points in the input file."
   ]
  },
  {
   "cell_type": "code",
   "execution_count": 9,
   "metadata": {},
   "outputs": [
    {
     "name": "stdout",
     "output_type": "stream",
     "text": [
      "Writing Delaunay triangles to results/smiling-man-delaunay.tri\n"
     ]
    }
   ],
   "source": [
    "// Output filename\n",
    "string outputFileName(\"results/smiling-man-delaunay.tri\");\n",
    "\n",
    "// Write delaunay triangles\n",
    "writeDelaunay(subdiv, points, outputFileName);\n",
    "\n",
    "cout << \"Writing Delaunay triangles to \" << outputFileName << endl;"
   ]
  },
  {
   "cell_type": "markdown",
   "metadata": {},
   "source": [
    "## <font style = \"color:rgb(50,120,229)\">Delaunay Triangulation Animation Code & Tutorial</font>\n",
    "\n",
    "It is instructive to see an animation of Delaunay triangulation and Voronoi diagram as the points get added. Let’s dive into the code. "
   ]
  },
  {
   "cell_type": "markdown",
   "metadata": {},
   "source": [
    "The function `drawPoint` draws a point on an image using a specified color."
   ]
  },
  {
   "cell_type": "code",
   "execution_count": 10,
   "metadata": {},
   "outputs": [],
   "source": [
    "static void drawPoint( Mat& img, Point2f fp, Scalar color )\n",
    "{\n",
    "  circle( img, fp, 2, color, FILLED, LINE_AA, 0 );\n",
    "}"
   ]
  },
  {
   "cell_type": "markdown",
   "metadata": {},
   "source": [
    "The function `drawDelaunay` draws Delaunay triangles on an image using a specified color.\n",
    "\n",
    "Points are inserted using an instance of `Subdiv2D` before calling this function. Delaunay triangles are obtained by calling the method `getTriangleList`.\n",
    "\n",
    "Once we get the triangles, we draw the lines by going over each vertex of the triangle."
   ]
  },
  {
   "cell_type": "code",
   "execution_count": 11,
   "metadata": {},
   "outputs": [],
   "source": [
    "// Draw delaunay triangles\n",
    "static void drawDelaunay( Mat& img, Subdiv2D& subdiv, Scalar delaunayColor )\n",
    "{\n",
    "  // Obtain the list of triangles.\n",
    "  // Each triangle is stored as vector of 6 coordinates\n",
    "  // (x0, y0, x1, y1, x2, y2)\n",
    "  vector<Vec6f> triangleList;\n",
    "  subdiv.getTriangleList(triangleList);\n",
    "  \n",
    "  // Will convert triangle representation to three vertices\n",
    "  vector<Point> vertices(3);\n",
    "  \n",
    "  // Get size of the image\n",
    "  Size size = img.size();\n",
    "  Rect rect(0,0, size.width, size.height);\n",
    "  \n",
    "  for( size_t i = 0; i < triangleList.size(); i++ )\n",
    "  {\n",
    "    // Get current triangle\n",
    "    Vec6f t = triangleList[i];\n",
    "    \n",
    "    // Convert triangle to vertices\n",
    "    vertices[0] = Point(cvRound(t[0]), cvRound(t[1]));\n",
    "    vertices[1] = Point(cvRound(t[2]), cvRound(t[3]));\n",
    "    vertices[2] = Point(cvRound(t[4]), cvRound(t[5]));\n",
    "    \n",
    "    // Draw triangles that are completely inside the image.\n",
    "    if ( rect.contains(vertices[0]) && rect.contains(vertices[1]) && rect.contains(vertices[2]))\n",
    "    {\n",
    "      line(img, vertices[0], vertices[1], delaunayColor, 1, LINE_AA, 0);\n",
    "      line(img, vertices[1], vertices[2], delaunayColor, 1, LINE_AA, 0);\n",
    "      line(img, vertices[2], vertices[0], delaunayColor, 1, LINE_AA, 0);\n",
    "    }\n",
    "  }\n",
    "}"
   ]
  },
  {
   "cell_type": "markdown",
   "metadata": {},
   "source": [
    "The function `drawVoronoi` draws Voronoi diagrams on an image.\n",
    "\n",
    "Points are inserted using an instance of `Subdiv2D` before calling this function. The Voronoi diagram is represented as a collection of facets (polygons) which can be obtained using the the method `getVoronoiFacetList`.\n",
    "\n",
    "The facets so obtained are drawn on the image using `fillConvexPoly` and the boundaries of the facets are drawn using polylines."
   ]
  },
  {
   "cell_type": "code",
   "execution_count": 12,
   "metadata": {},
   "outputs": [],
   "source": [
    "//Draw voronoi diagrams\n",
    "static void drawVoronoi( Mat& img, Subdiv2D& subdiv )\n",
    "{\n",
    "  // Vector of voronoi facets.\n",
    "  vector<vector<Point2f> > facets;\n",
    "  \n",
    "  // Voronoi centers\n",
    "  vector<Point2f> centers;\n",
    "  \n",
    "  // Get facets and centers\n",
    "  subdiv.getVoronoiFacetList(vector<int>(), facets, centers);\n",
    "  \n",
    "  // Variable for the ith facet used by fillConvexPoly\n",
    "  vector<Point> ifacet;\n",
    "  \n",
    "  // Variable for the ith facet used by polylines.\n",
    "  vector<vector<Point> > ifacets(1);\n",
    "  \n",
    "  for( size_t i = 0; i < facets.size(); i++ )\n",
    "  {\n",
    "    // Extract ith facet\n",
    "    ifacet.resize(facets[i].size());\n",
    "    for( size_t j = 0; j < facets[i].size(); j++ )\n",
    "      ifacet[j] = facets[i][j];\n",
    "    \n",
    "    // Generate random color\n",
    "    Scalar color;\n",
    "    color[0] = rand() & 255;\n",
    "    color[1] = rand() & 255;\n",
    "    color[2] = rand() & 255;\n",
    "    \n",
    "    // Fill facet with a random color\n",
    "    fillConvexPoly(img, ifacet, color, 8, 0);\n",
    "    \n",
    "    // Draw facet boundary\n",
    "    ifacets[0] = ifacet;\n",
    "    polylines(img, ifacets, true, Scalar(), 1, LINE_AA, 0);\n",
    "    \n",
    "    // Draw centers.\n",
    "    circle(img, centers[i], 3, Scalar(), FILLED, LINE_AA, 0);\n",
    "  }\n",
    "}"
   ]
  },
  {
   "cell_type": "markdown",
   "metadata": {},
   "source": [
    "The function findIndex and writeDelaunay were discussed above."
   ]
  },
  {
   "cell_type": "code",
   "execution_count": 13,
   "metadata": {},
   "outputs": [],
   "source": [
    "// Define colors for drawing.\n",
    "Scalar delaunayColor(255,255,255), pointsColor(0, 0, 255);"
   ]
  },
  {
   "cell_type": "code",
   "execution_count": 14,
   "metadata": {},
   "outputs": [],
   "source": [
    "// Read in the image.\n",
    "Mat img = imread(DATA_PATH + \"images/smiling-man.jpg\");"
   ]
  },
  {
   "cell_type": "code",
   "execution_count": 15,
   "metadata": {},
   "outputs": [],
   "source": [
    "// Rectangle to be used with Subdiv2D\n",
    "Size size = img.size();\n",
    "Rect rect2(0, 0, size.width, size.height);"
   ]
  },
  {
   "cell_type": "markdown",
   "metadata": {},
   "source": [
    "The image bounding box is used to initialize an instance of `Subdiv2D`. The points are subsequently added to the this object for calculating and displaying Delaunay triangulation and Voronoi diagrams."
   ]
  },
  {
   "cell_type": "code",
   "execution_count": 16,
   "metadata": {},
   "outputs": [],
   "source": [
    "// Create an instance of Subdiv2D\n",
    "Subdiv2D subdiv(rect2);\n",
    "\n",
    "// Create a vector of points.\n",
    "vector<Point2f> points2;\n",
    "\n",
    "// Read in the points from a text file\n",
    "ifstream ifs2(DATA_PATH + \"images/smiling-man-delaunay.txt\");\n",
    "int x2, y2;\n",
    "while(ifs2 >> x2 >> y2)\n",
    "{\n",
    "    points2.push_back(Point2f(x2,y2));\n",
    "}\n",
    "\n",
    "// Image for displaying Delaunay Triangulation\n",
    "Mat imgDelaunay;\n",
    "\n",
    "// Image for displaying Voronoi Diagram.\n",
    "Mat imgVoronoi = Mat::zeros(img.rows, img.cols, CV_8UC3);\n",
    "\n",
    "// Final side-by-side display.\n",
    "Mat imgDisplay;"
   ]
  },
  {
   "cell_type": "markdown",
   "metadata": {},
   "source": [
    "We calculate and draw the Delaunay triangulation ( on `imgDelaunay` ) and Voronoi Diagram on ( `imgVoronoi` ) every time a new point is added thus creating an animation."
   ]
  },
  {
   "cell_type": "code",
   "execution_count": 17,
   "metadata": {},
   "outputs": [],
   "source": [
    "// Insert points into subdiv and animate\n",
    "for( vector<Point2f>::iterator it = points.begin(); it != points.end(); it++)\n",
    "{\n",
    "    subdiv.insert(*it);\n",
    "\n",
    "    imgDelaunay = img.clone();\n",
    "    imgVoronoi = cv::Scalar(0,0,0);\n",
    "\n",
    "    // Draw delaunay triangles\n",
    "    drawDelaunay( imgDelaunay, subdiv, delaunayColor );\n",
    "\n",
    "    // Draw points\n",
    "    for( vector<Point2f>::iterator it = points.begin(); it != points.end(); it++)\n",
    "    {\n",
    "      drawPoint(imgDelaunay, *it, pointsColor);\n",
    "    }\n",
    "\n",
    "    // Draw voronoi map\n",
    "    drawVoronoi(imgVoronoi, subdiv);\n",
    "\n",
    "    hconcat(imgDelaunay, imgVoronoi, imgDisplay);\n",
    "    //imshow(win, imgDisplay);\n",
    "    //waitKey(100);\n",
    "}"
   ]
  },
  {
   "cell_type": "code",
   "execution_count": 18,
   "metadata": {},
   "outputs": [],
   "source": [
    "// Write delaunay triangles\n",
    "writeDelaunay(subdiv, points, \"smiling-man-delaunay.tri\");"
   ]
  },
  {
   "cell_type": "markdown",
   "metadata": {},
   "source": [
    "## <font style = \"color:rgb(50,120,229)\">Results</font>\n",
    "If you run the code - delaunayAnimation.cpp in week2-cpp/cpp folder, you should get a result similar to the one shown below.\n",
    "\n",
    "![](https://www.learnopencv.com/wp-content/uploads/2018/01/cv4f-m4-w2-animation.gif)"
   ]
  },
  {
   "cell_type": "markdown",
   "metadata": {},
   "source": [
    "# <font style = \"color:rgb(50,120,229)\">References and Further Reading</font>\n",
    "\n",
    "[https://en.wikipedia.org/wiki/Delaunay_triangulation](https://en.wikipedia.org/wiki/Delaunay_triangulation)"
   ]
  }
 ],
 "metadata": {
  "kernelspec": {
   "display_name": "C++14",
   "language": "C++14",
   "name": "xeus-cling-cpp14"
  },
  "language_info": {
   "codemirror_mode": "text/x-c++src",
   "file_extension": ".cpp",
   "mimetype": "text/x-c++src",
   "name": "c++",
   "version": "-std=c++14"
  }
 },
 "nbformat": 4,
 "nbformat_minor": 2
}
